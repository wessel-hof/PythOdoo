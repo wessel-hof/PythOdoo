{
 "cells": [
  {
   "cell_type": "markdown",
   "source": [
    "First import all the needed modules:"
   ],
   "metadata": {}
  },
  {
   "cell_type": "code",
   "execution_count": null,
   "source": [
    "from configparser import ConfigParser\r\n",
    "from sshtunnel import SSHTunnelForwarder\r\n",
    "import psycopg2\r\n",
    "import pandas as pd"
   ],
   "outputs": [],
   "metadata": {}
  },
  {
   "cell_type": "markdown",
   "source": [
    "Below, the different PostGreSQL queries can be written and stored in a variable.\r\n",
    "The queries are specific for the Yalp Odoo database"
   ],
   "metadata": {}
  },
  {
   "cell_type": "code",
   "execution_count": null,
   "source": [
    "lead = \"SELECT crm_lead.id,, crm_lead.create_date, partner_id, date_closed, crm_lead.name, planned_revenue, crm_lead.probability, date_deadline, crm_stage.name AS stage, user_id, crm_lead.team_id, company_id, crm_lost_reason.name AS lost_reason, crm_won_reason.name AS won_reason FROM crm_lead LEFT JOIN crm_stage ON crm_stage.id = crm_lead.stage_id LEFT JOIN crm_won_reason ON crm_won_reason.id = crm_lead.won_reason_id LEFT JOIN crm_lost_reason ON crm_lost_reason.id = crm_lead.lost_reason\"\r\n",
    "sale_order = \"SELECT * FROM sale_order;\"\r\n",
    "sale_order_line = \"SELECT id, order_id, product_id, name, product_uom_qty, price_unit, yalp_margin, price_subtotal FROM sale_order_line\"\r\n",
    "product = \"SELECT product_product.id, product_template.default_code, product_template.name, product_template.list_price, product_template.foundation, product_template.categ_id, product_category.name, product_category.complete_name FROM product_product LEFT JOIN product_template ON product_product.product_tmpl_id = product_template.id LEFT JOIN product_category ON product_template.categ_id = product_category.id \"\r\n",
    "user = \"SELECT res_users.id, res_partner.name, x_sales_target, res_users.active FROM res_users JOIN res_partner ON res_users.partner_id = res_partner.id WHERE share = False\"\r\n",
    "sale_team = \"SELECT * FROM crm_team WHERE ACTIVE = True\""
   ],
   "outputs": [],
   "metadata": {}
  },
  {
   "cell_type": "markdown",
   "source": [
    "1. Read the credentials from the database connection file\r\n",
    "2. Setup the ssh tunnel to the database server\r\n",
    "3. Create connection to the database\r\n",
    "4. Run the queries\r\n",
    "5. Close database connection\r\n",
    "6. Close tunnel"
   ],
   "metadata": {}
  },
  {
   "cell_type": "code",
   "execution_count": null,
   "source": [
    "cred = ConfigParser(allow_no_value=True)\r\n",
    "cred.read('database.ini')\r\n",
    "tunnel = SSHTunnelForwarder(\r\n",
    "         (cred['ssh']['Host'], int(cred['ssh']['Port'])),\r\n",
    "         ssh_username=cred['ssh']['User'],\r\n",
    "         ssh_password=cred['ssh']['Password'],\r\n",
    "         remote_bind_address=('localhost', int(cred['database']['Port'])),\r\n",
    "         local_bind_address=('localhost', int(cred['database']['Port']))\r\n",
    "         )\r\n",
    "tunnel.start()\r\n",
    "conn = psycopg2.connect(\r\n",
    "    host=\"localhost\",\r\n",
    "    database=cred['database']['Name'],\r\n",
    "    user=cred['database']['User'],\r\n",
    "    password=cred['database']['Password']\r\n",
    "    )\r\n",
    "# ADD THE QUERIES THAT NEED TO SEND TO THE DATABASE HERE\r\n",
    "df_leads =  pd.io.sql.read_sql_query(lead, conn)\r\n",
    "df_sale_orders = pd.io.sql.read_sql_query(sale_order, conn)\r\n",
    "df_sale_orders_line = pd.io.sql.read_sql_query(sale_order_line, conn)\r\n",
    "df_products = pd.io.sql.read_sql_query(product, conn)\r\n",
    "df_users = pd.io.sql.read_sql_query(user, conn)\r\n",
    "df_sale_teams =  pd.io.sql.read_sql_query(sale_team, conn)\r\n",
    "# CLOSING CONNECTION AND TUNNEL AFTER RUNNING THE QUERIES\r\n",
    "conn.close()\r\n",
    "if conn.closed:\r\n",
    "    print(\"Connection closed\")\r\n",
    "tunnel.stop()"
   ],
   "outputs": [],
   "metadata": {}
  },
  {
   "cell_type": "markdown",
   "source": [
    "If something went wrong, use statement below to ALWAYS close the connections"
   ],
   "metadata": {}
  },
  {
   "cell_type": "code",
   "execution_count": null,
   "source": [
    "conn.close()\r\n",
    "if conn.closed:\r\n",
    "    print(\"Connection closed\")\r\n",
    "tunnel.stop()"
   ],
   "outputs": [],
   "metadata": {}
  },
  {
   "cell_type": "markdown",
   "source": [
    "<h1>Start analysing from here</h1>"
   ],
   "metadata": {}
  },
  {
   "cell_type": "code",
   "execution_count": null,
   "source": [
    "# the dataframes are:\r\n",
    "# df_leads\r\n",
    "# df_sale_orders\r\n",
    "# df_sale_order_lines\r\n",
    "# df_products\r\n",
    "# df_users\r\n",
    "# df_sale_teams\r\n",
    "\r\n"
   ],
   "outputs": [],
   "metadata": {}
  }
 ],
 "metadata": {
  "orig_nbformat": 4,
  "language_info": {
   "name": "python",
   "version": "3.8.8",
   "mimetype": "text/x-python",
   "codemirror_mode": {
    "name": "ipython",
    "version": 3
   },
   "pygments_lexer": "ipython3",
   "nbconvert_exporter": "python",
   "file_extension": ".py"
  },
  "kernelspec": {
   "name": "python3",
   "display_name": "Python 3.8.8 64-bit ('base': conda)"
  },
  "interpreter": {
   "hash": "aa8d7ff0457839a28f7b5635a37c1ae1a191f69d05bc6d8da718c32daa2db18e"
  }
 },
 "nbformat": 4,
 "nbformat_minor": 2
}