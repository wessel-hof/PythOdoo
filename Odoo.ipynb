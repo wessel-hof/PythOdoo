{
 "cells": [
  {
   "cell_type": "markdown",
   "source": [
    "First import all the needed modules:"
   ],
   "metadata": {}
  },
  {
   "cell_type": "code",
   "execution_count": null,
   "source": [
    "from configparser import ConfigParser\r\n",
    "from sshtunnel import SSHTunnelForwarder\r\n",
    "import psycopg2\r\n",
    "import pandas as pd"
   ],
   "outputs": [],
   "metadata": {}
  },
  {
   "cell_type": "markdown",
   "source": [
    "Below, the different PostGreSQL queries can be written and stored in a variable:"
   ],
   "metadata": {}
  },
  {
   "cell_type": "code",
   "execution_count": null,
   "source": [
    "SaleInfoQ = \"SELECT sale_order_line.id, DATE(sale_order.confirmation_date) AS confirmation_date, sale_order_line.order_id, sale_order.name, product_template.default_code, product_uom_qty, price_unit, price_subtotal FROM sale_order_line JOIN product_product ON sale_order_line.product_id = product_product.id JOIN product_template ON product_product.product_tmpl_id = product_template.id JOIN sale_order ON sale_order_line.order_id = sale_order.id WHERE sale_order.confirmation_date > '2021-01-01 00:00:00';\"\r\n"
   ],
   "outputs": [],
   "metadata": {}
  },
  {
   "cell_type": "markdown",
   "source": [
    "1. Read the credentials from the database connection file\r\n",
    "2. Setup the ssh tunnel to the database server\r\n",
    "3. Create connection to the database\r\n",
    "4. Run the queries\r\n",
    "5. Close database connection\r\n",
    "6. Close tunnel"
   ],
   "metadata": {}
  },
  {
   "cell_type": "code",
   "execution_count": null,
   "source": [
    "cred = ConfigParser(allow_no_value=True)\r\n",
    "cred.read('database.ini')\r\n",
    "\r\n",
    "tunnel = SSHTunnelForwarder(\r\n",
    "         (cred['ssh']['Host'], int(cred['ssh']['Port'])),\r\n",
    "         ssh_username=cred['ssh']['User'],\r\n",
    "         ssh_password=cred['ssh']['Password'],\r\n",
    "         remote_bind_address=('localhost', int(cred['database']['Port'])),\r\n",
    "         local_bind_address=('localhost', int(cred['database']['Port']))\r\n",
    "         )\r\n",
    "tunnel.start()\r\n",
    "\r\n",
    "conn = psycopg2.connect(\r\n",
    "    host=\"localhost\",\r\n",
    "    database=cred['database']['Name'],\r\n",
    "    user=cred['database']['User'],\r\n",
    "    password=cred['database']['Password']\r\n",
    "    )\r\n",
    "# ADD THE QUERIES THAT NEED TO SEND TO THE DATABASE HERE\r\n",
    "\r\n",
    "SaleInfo = pd.io.sql.read_sql_query(SaleInfoQ, conn)\r\n",
    "\r\n",
    "# CLOSING CONNECTION AND TUNNEL AFTER RUNNING THE QUERIES\r\n",
    "conn.close()\r\n",
    "if conn.closed:\r\n",
    "    print(\"Connection closed\")\r\n",
    "tunnel.stop()\r\n"
   ],
   "outputs": [],
   "metadata": {}
  }
 ],
 "metadata": {
  "orig_nbformat": 4,
  "language_info": {
   "name": "python",
   "version": "3.8.8",
   "mimetype": "text/x-python",
   "codemirror_mode": {
    "name": "ipython",
    "version": 3
   },
   "pygments_lexer": "ipython3",
   "nbconvert_exporter": "python",
   "file_extension": ".py"
  },
  "kernelspec": {
   "name": "python3",
   "display_name": "Python 3.8.8 64-bit ('base': conda)"
  },
  "interpreter": {
   "hash": "aa8d7ff0457839a28f7b5635a37c1ae1a191f69d05bc6d8da718c32daa2db18e"
  }
 },
 "nbformat": 4,
 "nbformat_minor": 2
}